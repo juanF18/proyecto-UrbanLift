{
 "cells": [
  {
   "cell_type": "markdown",
   "metadata": {},
   "source": [
    "### Cargado de datos\n",
    "\n",
    "Este es el codigo con el que se van a cargar los datos, estos datos se van a cargar desde un JSON"
   ]
  },
  {
   "cell_type": "code",
   "execution_count": 2,
   "metadata": {},
   "outputs": [
    {
     "data": {
      "text/plain": [
       "{'nodes': [{'nombre': 'Nodo1',\n",
       "   'carrera': 'Ingeniería',\n",
       "   'calle': 'Calle 1',\n",
       "   'semaforo': True,\n",
       "   'punto_de_interes': True,\n",
       "   'conexiones': ['Nodo2', 'Nodo4']},\n",
       "  {'nombre': 'Nodo2',\n",
       "   'carrera': 'Medicina',\n",
       "   'calle': 'Calle 2',\n",
       "   'semaforo': True,\n",
       "   'punto_de_interes': False,\n",
       "   'conexiones': ['Nodo1', 'Nodo3', 'Nodo5']},\n",
       "  {'nombre': 'Nodo3',\n",
       "   'carrera': 'Arquitectura',\n",
       "   'calle': 'Calle 3',\n",
       "   'semaforo': False,\n",
       "   'punto_de_interes': True,\n",
       "   'conexiones': ['Nodo2', 'Nodo6']},\n",
       "  {'nombre': 'Nodo4',\n",
       "   'carrera': 'Biología',\n",
       "   'calle': 'Calle 4',\n",
       "   'semaforo': True,\n",
       "   'punto_de_interes': False,\n",
       "   'conexiones': ['Nodo1', 'Nodo5', 'Nodo7']},\n",
       "  {'nombre': 'Nodo5',\n",
       "   'carrera': 'Economía',\n",
       "   'calle': 'Calle 5',\n",
       "   'semaforo': False,\n",
       "   'punto_de_interes': True,\n",
       "   'conexiones': ['Nodo2', 'Nodo4', 'Nodo8']},\n",
       "  {'nombre': 'Nodo6',\n",
       "   'carrera': 'Psicología',\n",
       "   'calle': 'Calle 6',\n",
       "   'semaforo': True,\n",
       "   'punto_de_interes': False,\n",
       "   'conexiones': ['Nodo3', 'Nodo7', 'Nodo9']},\n",
       "  {'nombre': 'Nodo7',\n",
       "   'carrera': 'Historia',\n",
       "   'calle': 'Calle 7',\n",
       "   'semaforo': False,\n",
       "   'punto_de_interes': True,\n",
       "   'conexiones': ['Nodo4', 'Nodo6', 'Nodo8']},\n",
       "  {'nombre': 'Nodo8',\n",
       "   'carrera': 'Física',\n",
       "   'calle': 'Calle 8',\n",
       "   'semaforo': True,\n",
       "   'punto_de_interes': False,\n",
       "   'conexiones': ['Nodo5', 'Nodo7', 'Nodo9']},\n",
       "  {'nombre': 'Nodo9',\n",
       "   'carrera': 'Química',\n",
       "   'calle': 'Calle 9',\n",
       "   'semaforo': True,\n",
       "   'punto_de_interes': True,\n",
       "   'conexiones': ['Nodo6', 'Nodo8']}],\n",
       " 'taxis': [{'placa': 'abc123', 'capacidad_tanque': 20},\n",
       "  {'placa': 'abc456', 'capacidad_tanque': 20},\n",
       "  {'placa': 'abc789', 'capacidad_tanque': 20},\n",
       "  {'placa': 'abc012', 'capacidad_tanque': 20}]}"
      ]
     },
     "execution_count": 2,
     "metadata": {},
     "output_type": "execute_result"
    }
   ],
   "source": [
    "import json\n",
    "\n",
    "with open('../data/datos2.json') as file:\n",
    "    data = json.load(file)\n",
    "\n",
    "data"
   ]
  },
  {
   "cell_type": "markdown",
   "metadata": {},
   "source": [
    "### Objeto que se tiene que crear\n",
    "\n",
    "El objeto Nodo o punto que se tiene que crear y con el metodo para cargar datos y crear un arreglo de objetos"
   ]
  },
  {
   "cell_type": "code",
   "execution_count": 40,
   "metadata": {},
   "outputs": [],
   "source": [
    "class Nodo:\n",
    "    def __init__(self, nombre, carrera, calle, semaforo, punto_de_interes, conexiones):\n",
    "        self.nombre = nombre\n",
    "        self.carrera = carrera\n",
    "        self.calle = calle\n",
    "        self.semaforo = semaforo\n",
    "        self.punto_de_interes = punto_de_interes\n",
    "        self.conexiones = conexiones\n",
    "        self.g = 0\n",
    "        self.h = 0\n",
    "        self.f = 0\n",
    "        self.parent = None\n",
    "\n",
    "    def __eq__(self, other):\n",
    "        return self.nombre == other.nombre\n",
    "\n",
    "    def __hash__(self):\n",
    "        return hash(self.nombre)\n",
    "\n",
    "    def load_nodes(data):\n",
    "        nodes = []\n",
    "        # Diccionario para mapear los nombres de nodos a objetos Nodo\n",
    "        node_map = {}\n",
    "        for nodo_data in data[\"nodes\"]:\n",
    "            nodo = Nodo(\n",
    "                nodo_data[\"nombre\"],\n",
    "                nodo_data[\"carrera\"],\n",
    "                nodo_data[\"calle\"],\n",
    "                nodo_data[\"semaforo\"],\n",
    "                nodo_data[\"punto_de_interes\"],\n",
    "                [],\n",
    "            )\n",
    "            nodes.append(nodo)\n",
    "            # Agregamos el nodo al mapeo\n",
    "            node_map[nodo.nombre] = nodo\n",
    "        # Se agregan las conexiones reales\n",
    "        for nodo_conexiones in nodes:\n",
    "            conexiones_nombre = [\n",
    "                n_conexiones[\"conexiones\"]\n",
    "                for n_conexiones in data[\"nodes\"]\n",
    "                if n_conexiones[\"nombre\"] == nodo_conexiones.nombre\n",
    "            ]\n",
    "            nodo_conexiones.conexiones = [\n",
    "                node_map[nombre]\n",
    "                for nombre in (conexiones_nombre[0] if conexiones_nombre else [])\n",
    "            ]\n",
    "        return nodes"
   ]
  },
  {
   "cell_type": "code",
   "execution_count": 42,
   "metadata": {},
   "outputs": [
    {
     "name": "stdout",
     "output_type": "stream",
     "text": [
      "Nodo1\n",
      "[<__main__.Nodo object at 0x73a09a10f100>, <__main__.Nodo object at 0x73a09abd32b0>]\n",
      "['Nodo2', 'Nodo4']\n",
      "Nodo2\n",
      "[<__main__.Nodo object at 0x73a09a10e0e0>, <__main__.Nodo object at 0x73a09abd1720>, <__main__.Nodo object at 0x73a09abd1930>]\n",
      "['Nodo1', 'Nodo3', 'Nodo5']\n",
      "Nodo3\n",
      "[<__main__.Nodo object at 0x73a09a10f100>, <__main__.Nodo object at 0x73a09abd12a0>]\n",
      "['Nodo2', 'Nodo6']\n",
      "Nodo4\n",
      "[<__main__.Nodo object at 0x73a09a10e0e0>, <__main__.Nodo object at 0x73a09abd1930>, <__main__.Nodo object at 0x73a09abd31f0>]\n",
      "['Nodo1', 'Nodo5', 'Nodo7']\n",
      "Nodo5\n",
      "[<__main__.Nodo object at 0x73a09a10f100>, <__main__.Nodo object at 0x73a09abd32b0>, <__main__.Nodo object at 0x73a09abd1ab0>]\n",
      "['Nodo2', 'Nodo4', 'Nodo8']\n",
      "Nodo6\n",
      "[<__main__.Nodo object at 0x73a09abd1720>, <__main__.Nodo object at 0x73a09abd31f0>, <__main__.Nodo object at 0x73a09abd1960>]\n",
      "['Nodo3', 'Nodo7', 'Nodo9']\n",
      "Nodo7\n",
      "[<__main__.Nodo object at 0x73a09abd32b0>, <__main__.Nodo object at 0x73a09abd12a0>, <__main__.Nodo object at 0x73a09abd1ab0>]\n",
      "['Nodo4', 'Nodo6', 'Nodo8']\n",
      "Nodo8\n",
      "[<__main__.Nodo object at 0x73a09abd1930>, <__main__.Nodo object at 0x73a09abd31f0>, <__main__.Nodo object at 0x73a09abd1960>]\n",
      "['Nodo5', 'Nodo7', 'Nodo9']\n",
      "Nodo9\n",
      "[<__main__.Nodo object at 0x73a09abd12a0>, <__main__.Nodo object at 0x73a09abd1ab0>]\n",
      "['Nodo6', 'Nodo8']\n"
     ]
    }
   ],
   "source": [
    "# Este seria el ejemplo de uso para saber si se cargaron bien los datos\n",
    "\n",
    "# Arreglos de nodos (Ya nuestros datos cargados y convertidos en objetos de datos)\n",
    "nodes_list = Nodo.load_nodes(data=data)\n",
    "\n",
    "# Para verificar que todo cargo bien hacemos un for para verificar dentro del array\n",
    "\n",
    "for node in nodes_list:\n",
    "    print(node.nombre)\n",
    "    print(node.conexiones)\n",
    "    print([n.nombre for n in node.conexiones])"
   ]
  },
  {
   "cell_type": "code",
   "execution_count": null,
   "metadata": {},
   "outputs": [],
   "source": [
    "import heapq\n",
    "\n",
    "def calculate_heuristic(node, end):\n",
    "    return abs(node.conexiones.index(end) - node.conexiones.index.end(end))\n",
    "\n",
    "\n",
    "def astar(start, end):\n",
    "    open_list = []\n",
    "    closed_list = set()\n",
    "\n",
    "    heapq.heappush(open_list, (0, start))\n",
    "\n",
    "    while open_list:\n",
    "        current_node = heapq.heappop(open_list)[1]\n",
    "        closed_list.add(current_node)\n",
    "        print(end)\n",
    "        if current_node == end:\n",
    "            path = []\n",
    "            while current_node:\n",
    "                path.append(current_node.nombre)\n",
    "                current_node = current_node.parent\n",
    "            return path[::-1]\n",
    "\n",
    "        for neighbor in current_node.conexiones:\n",
    "            if neighbor in closed_list:\n",
    "                continue\n",
    "            print('Valor g', type(neighbor.g))\n",
    "            neighbor.g = current_node.g + 1\n",
    "            neighbor.h = calculate_heuristic(neighbor, end)\n",
    "            neighbor.f = neighbor.g + neighbor.h\n",
    "\n",
    "            for _, open_node in open_list:\n",
    "                if neighbor == open_node and neighbor.g > open_node.g:\n",
    "                    continue\n",
    "\n",
    "            neighbor.parent = current_node\n",
    "            heapq.heappush(open_list, (neighbor.f, neighbor))\n",
    "\n",
    "    return None"
   ]
  },
  {
   "cell_type": "code",
   "execution_count": null,
   "metadata": {},
   "outputs": [
    {
     "name": "stdout",
     "output_type": "stream",
     "text": [
      "<__main__.Nodo object at 0x7a88b053b3d0>\n",
      "Valor g <class 'int'>\n"
     ]
    },
    {
     "ename": "TypeError",
     "evalue": "unsupported operand type(s) for -: 'str' and 'str'",
     "output_type": "error",
     "traceback": [
      "\u001b[0;31m---------------------------------------------------------------------------\u001b[0m",
      "\u001b[0;31mTypeError\u001b[0m                                 Traceback (most recent call last)",
      "Cell \u001b[0;32mIn[45], line 1\u001b[0m\n\u001b[0;32m----> 1\u001b[0m path \u001b[38;5;241m=\u001b[39m \u001b[43mastar\u001b[49m\u001b[43m(\u001b[49m\u001b[43mnodes_list\u001b[49m\u001b[43m[\u001b[49m\u001b[38;5;241;43m0\u001b[39;49m\u001b[43m]\u001b[49m\u001b[43m,\u001b[49m\u001b[43m \u001b[49m\u001b[43mnodes_list\u001b[49m\u001b[43m[\u001b[49m\u001b[38;5;241;43m-\u001b[39;49m\u001b[38;5;241;43m1\u001b[39;49m\u001b[43m]\u001b[49m\u001b[43m)\u001b[49m\n\u001b[1;32m      2\u001b[0m \u001b[38;5;28mprint\u001b[39m(path)\n",
      "Cell \u001b[0;32mIn[44], line 26\u001b[0m, in \u001b[0;36mastar\u001b[0;34m(start, end)\u001b[0m\n\u001b[1;32m     24\u001b[0m \u001b[38;5;28mprint\u001b[39m(\u001b[38;5;124m'\u001b[39m\u001b[38;5;124mValor g\u001b[39m\u001b[38;5;124m'\u001b[39m, \u001b[38;5;28mtype\u001b[39m(neighbor\u001b[38;5;241m.\u001b[39mg))\n\u001b[1;32m     25\u001b[0m neighbor\u001b[38;5;241m.\u001b[39mg \u001b[38;5;241m=\u001b[39m current_node\u001b[38;5;241m.\u001b[39mg \u001b[38;5;241m+\u001b[39m \u001b[38;5;241m1\u001b[39m\n\u001b[0;32m---> 26\u001b[0m neighbor\u001b[38;5;241m.\u001b[39mh \u001b[38;5;241m=\u001b[39m \u001b[38;5;28mabs\u001b[39m(\u001b[43mneighbor\u001b[49m\u001b[38;5;241;43m.\u001b[39;49m\u001b[43mcalle\u001b[49m\u001b[43m \u001b[49m\u001b[38;5;241;43m-\u001b[39;49m\u001b[43m \u001b[49m\u001b[43mend\u001b[49m\u001b[38;5;241;43m.\u001b[39;49m\u001b[43mcalle\u001b[49m) \u001b[38;5;241m+\u001b[39m \u001b[38;5;28mabs\u001b[39m(\n\u001b[1;32m     27\u001b[0m     neighbor\u001b[38;5;241m.\u001b[39mcarrera \u001b[38;5;241m-\u001b[39m end\u001b[38;5;241m.\u001b[39mcarrera\n\u001b[1;32m     28\u001b[0m )\n\u001b[1;32m     29\u001b[0m neighbor\u001b[38;5;241m.\u001b[39mf \u001b[38;5;241m=\u001b[39m neighbor\u001b[38;5;241m.\u001b[39mg \u001b[38;5;241m+\u001b[39m neighbor\u001b[38;5;241m.\u001b[39mh\n\u001b[1;32m     31\u001b[0m \u001b[38;5;28;01mfor\u001b[39;00m _, open_node \u001b[38;5;129;01min\u001b[39;00m open_list:\n",
      "\u001b[0;31mTypeError\u001b[0m: unsupported operand type(s) for -: 'str' and 'str'"
     ]
    }
   ],
   "source": [
    "path = astar(nodes_list[0], nodes_list[-1])\n",
    "print(path)"
   ]
  }
 ],
 "metadata": {
  "kernelspec": {
   "display_name": ".venv",
   "language": "python",
   "name": "python3"
  },
  "language_info": {
   "codemirror_mode": {
    "name": "ipython",
    "version": 3
   },
   "file_extension": ".py",
   "mimetype": "text/x-python",
   "name": "python",
   "nbconvert_exporter": "python",
   "pygments_lexer": "ipython3",
   "version": "3.10.12"
  }
 },
 "nbformat": 4,
 "nbformat_minor": 2
}
