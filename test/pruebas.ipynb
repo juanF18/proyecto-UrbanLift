{
 "cells": [
  {
   "cell_type": "markdown",
   "metadata": {},
   "source": [
    "### Cargado de datos\n",
    "\n",
    "Este es el codigo con el que se van a cargar los datos, estos datos se van a cargar desde un JSON"
   ]
  },
  {
   "cell_type": "code",
   "execution_count": 2,
   "metadata": {},
   "outputs": [
    {
     "data": {
      "text/plain": [
       "{'nodos': [{'nombre': 'Nodo 1',\n",
       "   'carrera': 'Ingeniería',\n",
       "   'calle': 'Calle 1',\n",
       "   'semaforo': True,\n",
       "   'punto_de_interes': True,\n",
       "   'conexiones': ['Nodo 2', 'Nodo 3']},\n",
       "  {'nombre': 'Nodo 2',\n",
       "   'carrera': 'Medicina',\n",
       "   'calle': 'Calle 2',\n",
       "   'semaforo': True,\n",
       "   'punto_de_interes': False,\n",
       "   'conexiones': ['Nodo 1', 'Nodo 3']},\n",
       "  {'nombre': 'Nodo 3',\n",
       "   'carrera': 'Arquitectura',\n",
       "   'calle': 'Calle 3',\n",
       "   'semaforo': False,\n",
       "   'punto_de_interes': True,\n",
       "   'conexiones': ['Nodo 1', 'Nodo 2']}]}"
      ]
     },
     "execution_count": 2,
     "metadata": {},
     "output_type": "execute_result"
    }
   ],
   "source": [
    "import json\n",
    "\n",
    "with open('datos.json') as file:\n",
    "    data = json.load(file)\n",
    "\n",
    "data"
   ]
  },
  {
   "cell_type": "markdown",
   "metadata": {},
   "source": [
    "### Objeto que se tiene que crear\n",
    "\n",
    "El objeto Nodo o punto que se tiene que crear y con el metodo para cargar datos y crear un arreglo de objetos"
   ]
  },
  {
   "cell_type": "code",
   "execution_count": 3,
   "metadata": {},
   "outputs": [],
   "source": [
    "class Nodo:\n",
    "    def __init__(self, nombre, carrera, calle, semaforo, punto_de_interes, conexiones):\n",
    "        self.nombre = nombre\n",
    "        self.carrera = carrera\n",
    "        self.calle = calle\n",
    "        self.semaforo = semaforo\n",
    "        self.punto_de_interes = punto_de_interes\n",
    "        self.conxiones = conexiones\n",
    "\n",
    "    def load_nodes(data):\n",
    "        nodes = []\n",
    "        for nodo_data in data['nodos']:\n",
    "            nodo = Nodo(nodo_data['nombre'], nodo_data['carrera'], nodo_data['calle'], nodo_data['semaforo'], nodo_data['punto_de_interes'], nodo_data['conexiones'])\n",
    "            nodes.append(nodo)\n",
    "        return nodes\n"
   ]
  },
  {
   "cell_type": "code",
   "execution_count": 4,
   "metadata": {},
   "outputs": [
    {
     "name": "stdout",
     "output_type": "stream",
     "text": [
      "Nodo 1\n",
      "Nodo 2\n",
      "Nodo 3\n"
     ]
    }
   ],
   "source": [
    "# Este seria el ejemplo de uso para saber si se cargaron bien los datos\n",
    "\n",
    "# Arreglos de nodos (Ya nuestros datos cargados y convertidos en objetos de datos)\n",
    "nodes = Nodo.load_nodes(data=data)\n",
    "\n",
    "# Para verificar que todo cargo bien hacemos un for para verificar dentro del array\n",
    "\n",
    "for node in nodes:\n",
    "    print(node.nombre)"
   ]
  },
  {
   "cell_type": "code",
   "execution_count": 4,
   "metadata": {},
   "outputs": [
    {
     "name": "stdout",
     "output_type": "stream",
     "text": [
      "2\n",
      "carro3\n"
     ]
    }
   ],
   "source": [
    "import random\n",
    "\n",
    "taxis = ['carro1', 'carro2', 'carro3', 'carro4']\n",
    "numero_aleatorio = random.randint(0, 3)\n",
    "print(numero_aleatorio)\n",
    "print(taxis[numero_aleatorio])\n"
   ]
  }
 ],
 "metadata": {
  "kernelspec": {
   "display_name": ".venv",
   "language": "python",
   "name": "python3"
  },
  "language_info": {
   "codemirror_mode": {
    "name": "ipython",
    "version": 3
   },
   "file_extension": ".py",
   "mimetype": "text/x-python",
   "name": "python",
   "nbconvert_exporter": "python",
   "pygments_lexer": "ipython3",
   "version": "3.10.12"
  }
 },
 "nbformat": 4,
 "nbformat_minor": 2
}
