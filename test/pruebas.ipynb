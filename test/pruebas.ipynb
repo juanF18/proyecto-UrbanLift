{
 "cells": [
  {
   "cell_type": "markdown",
   "metadata": {},
   "source": [
    "### Cargado de datos\n",
    "\n",
    "Este es el codigo con el que se van a cargar los datos, estos datos se van a cargar desde un JSON"
   ]
  },
  {
   "cell_type": "code",
   "execution_count": 2,
   "metadata": {},
   "outputs": [
    {
     "data": {
      "text/plain": [
       "{'nodes': [{'nombre': 'Nodo1',\n",
       "   'carrera': 10,\n",
       "   'calle': 10,\n",
       "   'semaforo': {'have': True, 'duration': 0.4},\n",
       "   'punto_de_interes': True,\n",
       "   'conexiones': ['Nodo2', 'Nodo4']},\n",
       "  {'nombre': 'Nodo2',\n",
       "   'carrera': 10,\n",
       "   'calle': 20,\n",
       "   'semaforo': {'have': True, 'duration': 1},\n",
       "   'punto_de_interes': False,\n",
       "   'conexiones': ['Nodo1', 'Nodo3']},\n",
       "  {'nombre': 'Nodo3',\n",
       "   'carrera': 10,\n",
       "   'calle': 30,\n",
       "   'semaforo': {'have': False},\n",
       "   'punto_de_interes': True,\n",
       "   'conexiones': ['Nodo2', 'Nodo6']},\n",
       "  {'nombre': 'Nodo4',\n",
       "   'carrera': 20,\n",
       "   'calle': 10,\n",
       "   'semaforo': {'have': True, 'duration': 1.5},\n",
       "   'punto_de_interes': False,\n",
       "   'conexiones': ['Nodo5']},\n",
       "  {'nombre': 'Nodo5',\n",
       "   'carrera': 20,\n",
       "   'calle': 20,\n",
       "   'semaforo': {'have': False},\n",
       "   'punto_de_interes': True,\n",
       "   'conexiones': ['Nodo2', 'Nodo4', 'Nodo6', 'Nodo8']},\n",
       "  {'nombre': 'Nodo6',\n",
       "   'carrera': 20,\n",
       "   'calle': 30,\n",
       "   'semaforo': {'have': True, 'duration': 0.9},\n",
       "   'punto_de_interes': False,\n",
       "   'conexiones': ['Nodo5']},\n",
       "  {'nombre': 'Nodo7',\n",
       "   'carrera': 30,\n",
       "   'calle': 10,\n",
       "   'semaforo': {'have': False},\n",
       "   'punto_de_interes': True,\n",
       "   'conexiones': ['Nodo4', 'Nodo8']},\n",
       "  {'nombre': 'Nodo8',\n",
       "   'carrera': 30,\n",
       "   'calle': 20,\n",
       "   'semaforo': {'have': True, 'duration': 1.3},\n",
       "   'punto_de_interes': False,\n",
       "   'conexiones': ['Nodo7', 'Nodo9']},\n",
       "  {'nombre': 'Nodo9',\n",
       "   'carrera': 30,\n",
       "   'calle': 30,\n",
       "   'semaforo': {'have': True, 'duration': 1.6},\n",
       "   'punto_de_interes': True,\n",
       "   'conexiones': ['Nodo6', 'Nodo8']}],\n",
       " 'taxis': [{'placa': 'abc123', 'capacidad_tanque': 20},\n",
       "  {'placa': 'abc456', 'capacidad_tanque': 20},\n",
       "  {'placa': 'abc789', 'capacidad_tanque': 20},\n",
       "  {'placa': 'abc012', 'capacidad_tanque': 20}]}"
      ]
     },
     "execution_count": 2,
     "metadata": {},
     "output_type": "execute_result"
    }
   ],
   "source": [
    "import json\n",
    "\n",
    "with open('../data/datos3.json') as file:\n",
    "    data = json.load(file)\n",
    "\n",
    "data"
   ]
  },
  {
   "cell_type": "markdown",
   "metadata": {},
   "source": [
    "### Objeto que se tiene que crear\n",
    "\n",
    "El objeto Nodo o punto que se tiene que crear y con el metodo para cargar datos y crear un arreglo de objetos"
   ]
  },
  {
   "cell_type": "code",
   "execution_count": 3,
   "metadata": {},
   "outputs": [],
   "source": [
    "class Nodo:\n",
    "    def __init__(self, nombre, carrera, calle, semaforo, punto_de_interes, conexiones):\n",
    "        self.nombre = nombre\n",
    "        self.carrera = carrera\n",
    "        self.calle = calle\n",
    "        self.semaforo = semaforo\n",
    "        self.punto_de_interes = punto_de_interes\n",
    "        self.conexiones = conexiones\n",
    "        self.g = 0\n",
    "        self.h = 0\n",
    "        self.f = 0\n",
    "        self.parent = None\n",
    "\n",
    "    def __str__(self):\n",
    "        return (f\"Nodo: {self.nombre}\\n\"\n",
    "                f\"Ubicación: Carrera {self.carrera}, Calle {self.calle}\\n\"\n",
    "                f\"Semaforo: {'Sí' if self.semaforo else 'No'}\\n\"\n",
    "                f\"Punto de Interés: {self.punto_de_interes}\\n\"\n",
    "                f\"Conexiones: {', '.join(con.nombre for con in self.conexiones)}\\n\"\n",
    "                f\"g: {self.g}, h: {self.h}, f: {self.f}\\n\"\n",
    "                f\"Parent: {self.parent.nombre if self.parent else 'Ninguno'}\")\n",
    "\n",
    "    \"\"\"\n",
    "    def __eq__(self, other):\n",
    "        return self.nombre == other.nombre\n",
    "    \"\"\"\n",
    "    def __hash__(self):\n",
    "        return hash(self.nombre)\n",
    "\n",
    "\n",
    "    def load_nodes(data):\n",
    "        nodes = {}\n",
    "        # Diccionario para mapear los nombres de nodos a objetos Nodo \n",
    "        node_map = {}\n",
    "        for nodo_data in data[\"nodes\"]:\n",
    "            nodo = Nodo(\n",
    "                nodo_data[\"nombre\"],\n",
    "                nodo_data[\"carrera\"],\n",
    "                nodo_data[\"calle\"],\n",
    "                nodo_data[\"semaforo\"],\n",
    "                nodo_data[\"punto_de_interes\"],\n",
    "                [],\n",
    "            )\n",
    "            nodes[nodo.nombre] = nodo\n",
    "            # Agregamos el nodo al mapeo\n",
    "            node_map[nodo.nombre] = nodo_data[\"conexiones\"]\n",
    "        # Se agregan las conexiones reales\n",
    "        for k, v in nodes.items():\n",
    "            v.conexiones = [nodes[conexion] for conexion in node_map[k]]\n",
    "        return nodes"
   ]
  },
  {
   "cell_type": "code",
   "execution_count": 4,
   "metadata": {},
   "outputs": [
    {
     "name": "stdout",
     "output_type": "stream",
     "text": [
      "Nodo1: Nodo1\n",
      "Nodo2: Nodo2\n",
      "Nodo3: Nodo3\n",
      "Nodo4: Nodo4\n",
      "Nodo5: Nodo5\n",
      "Nodo6: Nodo6\n",
      "Nodo7: Nodo7\n",
      "Nodo8: Nodo8\n",
      "Nodo9: Nodo9\n"
     ]
    }
   ],
   "source": [
    "# Este seria el ejemplo de uso para saber si se cargaron bien los datos\n",
    "\n",
    "# Arreglos de nodos (Ya nuestros datos cargados y convertidos en objetos de datos)\n",
    "nodes_dict = Nodo.load_nodes(data=data)\n",
    "\n",
    "# Para verificar que todo cargo bien hacemos un for para verificar dentro del array\n",
    "for k, v in nodes_dict.items():\n",
    "    print(f\"{k}: {v.nombre}\")\n",
    "    # print([n.nombre for n in v.conexiones])"
   ]
  },
  {
   "cell_type": "code",
   "execution_count": 5,
   "metadata": {},
   "outputs": [],
   "source": [
    "import heapq\n",
    "\n",
    "def calculate_heuristic(node, end):\n",
    "    return abs(node.calle - end.calle) + abs(node.carrera - end.carrera)\n",
    "\n",
    "def calculate_heuristic_with_time(node, end):\n",
    "    distancia_manhattan = abs(node.calle - end.calle) + abs(node.carrera - end.carrera)\n",
    "    tiempo_transito_base = distancia_manhattan * 10\n",
    "\n",
    "    tiempo_semaforo = 0\n",
    "\n",
    "    if node.semaforo[\"have\"]:\n",
    "        tiempo_semaforo = node.semaforo['duration']\n",
    "\n",
    "    return tiempo_transito_base + tiempo_semaforo\n",
    "\n",
    "def astar(nodes_dict, start_name, end_name):\n",
    "    open_list = []\n",
    "    closed_list = set()\n",
    "\n",
    "    start_node = nodes_dict[start_name]\n",
    "    end_node = nodes_dict[end_name]\n",
    "\n",
    "    heapq.heappush(open_list, ( start_node.nombre, start_node))\n",
    "\n",
    "    while open_list:\n",
    "        _, current_node = heapq.heappop(open_list)\n",
    "        closed_list.add(current_node.nombre)\n",
    "\n",
    "        if current_node == end_node:\n",
    "            path = []\n",
    "            while current_node:\n",
    "                path.append(current_node.nombre)\n",
    "                current_node = current_node.parent\n",
    "            return path[::-1]\n",
    "\n",
    "        for neighbor in current_node.conexiones:\n",
    "            if neighbor.nombre in closed_list:\n",
    "                continue\n",
    "\n",
    "            tentative_g = current_node.g + 1\n",
    "            tentative_f = tentative_g + calculate_heuristic(neighbor, end_node)\n",
    "\n",
    "            in_open_list = False\n",
    "            for item in open_list:\n",
    "                _, open_node = item\n",
    "                if neighbor.nombre == open_node.nombre:\n",
    "                    in_open_list = True\n",
    "                    if tentative_g >= neighbor.g:\n",
    "                        break\n",
    "            if not in_open_list or tentative_g < neighbor.g:\n",
    "                neighbor.g = tentative_g\n",
    "                neighbor.h = calculate_heuristic(neighbor, end_node)\n",
    "                neighbor.f = tentative_f\n",
    "                neighbor.parent = current_node\n",
    "                if not in_open_list:\n",
    "                    heapq.heappush(open_list, ( neighbor.nombre, neighbor))\n",
    "\n",
    "    return None\n"
   ]
  },
  {
   "cell_type": "code",
   "execution_count": 6,
   "metadata": {},
   "outputs": [
    {
     "name": "stdout",
     "output_type": "stream",
     "text": [
      "['Nodo7', 'Nodo4', 'Nodo5', 'Nodo2', 'Nodo1']\n"
     ]
    }
   ],
   "source": [
    "path = astar(nodes_dict=nodes_dict, start_name='Nodo7', end_name='Nodo1')\n",
    "print(path)"
   ]
  },
  {
   "cell_type": "code",
   "execution_count": 7,
   "metadata": {},
   "outputs": [],
   "source": [
    "import heapq\n",
    "\n",
    "\n",
    "def calculate_cost(node, neighbor, vehicle_efficiency):\n",
    "    distance = abs(node.calle - neighbor.calle) + abs(node.carrera - neighbor.carrera)\n",
    "\n",
    "    return distance/vehicle_efficiency\n",
    "\n",
    "def astar_with_gas(nodes_dict, start_name, end_name, vehicle_efficiency):\n",
    "    open_list = []\n",
    "    closed_list = set()\n",
    "\n",
    "    start_node = nodes_dict[start_name]\n",
    "    end_node = nodes_dict[end_name]\n",
    "\n",
    "    heapq.heappush(open_list, (start_node.nombre, start_node))  # El costo inicial es 0\n",
    "\n",
    "    while open_list:\n",
    "        _, current_node = heapq.heappop(open_list)\n",
    "        closed_list.add(current_node.nombre)\n",
    "\n",
    "        if current_node == end_node:\n",
    "            path = []\n",
    "            total_fuel_consumption = current_node.g  # El consumo total de combustible\n",
    "            while current_node:\n",
    "                path.append(current_node.nombre)\n",
    "                current_node = current_node.parent\n",
    "            return path[::-1], total_fuel_consumption  # Devuelve también el consumo total de combustible\n",
    "\n",
    "        for neighbor in current_node.conexiones:\n",
    "            if neighbor.nombre in closed_list:\n",
    "                continue\n",
    "\n",
    "            tentative_g = current_node.g + calculate_cost(current_node, neighbor, vehicle_efficiency)\n",
    "            tentative_f = tentative_g + calculate_heuristic(neighbor, end_node)\n",
    "\n",
    "            in_open_list = False\n",
    "            for item in open_list:\n",
    "                _, open_node = item\n",
    "                if neighbor.nombre == open_node.nombre:\n",
    "                    in_open_list = True\n",
    "                    if tentative_g >= neighbor.g:\n",
    "                        break\n",
    "            if not in_open_list or tentative_g < neighbor.g:\n",
    "                neighbor.g = tentative_g\n",
    "                neighbor.h = calculate_heuristic(neighbor, end_node)\n",
    "                neighbor.f = tentative_f\n",
    "                neighbor.parent = current_node\n",
    "                if not in_open_list:\n",
    "                    heapq.heappush(open_list, (neighbor.nombre, neighbor))\n",
    "\n",
    "    return None\n",
    "\n",
    "# Asumir un valor para 'vehicle_efficiency', por ejemplo, 15 km/L\n",
    "vehicle_efficiency = 15\n",
    "\n",
    "# Llamada a la función astar:\n",
    "# path, total_fuel_consumption = astar(nodes_dict, \"inicio\", \"fin\", vehicle_efficiency)\n"
   ]
  },
  {
   "cell_type": "code",
   "execution_count": 8,
   "metadata": {},
   "outputs": [
    {
     "name": "stdout",
     "output_type": "stream",
     "text": [
      "Termine\n"
     ]
    }
   ],
   "source": [
    "# Reasignar a todos los nodos euristicas, f y g a 0\n",
    "\n",
    "for k, v in nodes_dict.items():\n",
    "    v.f = 0\n",
    "    v.g = 0\n",
    "    v.h = 0\n",
    "print(\"Termine\")"
   ]
  },
  {
   "cell_type": "code",
   "execution_count": 9,
   "metadata": {},
   "outputs": [
    {
     "name": "stdout",
     "output_type": "stream",
     "text": [
      "['Nodo9', 'Nodo6', 'Nodo5', 'Nodo2', 'Nodo1']\n",
      "El consumo de combustible fue: 7.692307692307692\n",
      "Termine\n"
     ]
    }
   ],
   "source": [
    "# Asumir un valor para 'vehicle_efficiency', por ejemplo, 15 km/L\n",
    "vehicle_efficiency = 5.2\n",
    "\n",
    "# Llamada a la función astar:\n",
    "path, total_fuel_consumption = astar_with_gas(nodes_dict, \"Nodo9\", \"Nodo1\", vehicle_efficiency)\n",
    "print(path)\n",
    "print(\"El consumo de combustible fue: \" + str(total_fuel_consumption))\n",
    "\n",
    "for k, v in nodes_dict.items():\n",
    "    v.f = 0\n",
    "    v.g = 0\n",
    "    v.h = 0\n",
    "print(\"Termine\")"
   ]
  },
  {
   "cell_type": "code",
   "execution_count": 10,
   "metadata": {},
   "outputs": [],
   "source": [
    "from collections import deque\n",
    "def bfs_find_path(start_node, target_node):\n",
    "    visited = set()\n",
    "    queue = deque()\n",
    "    queue.append((start_node, [start_node]))\n",
    "\n",
    "    while queue:\n",
    "        current_node, path = queue.popleft()\n",
    "        if current_node == target_node:\n",
    "            return path\n",
    "\n",
    "        for connection in current_node.conexiones:\n",
    "            if connection not in visited:\n",
    "                visited.add(connection)\n",
    "                new_path = list(path)\n",
    "                new_path.append(connection)\n",
    "                queue.append((connection, new_path))\n",
    "\n",
    "    return None\n",
    "\n",
    "def path_tour_trip_best_first_search(start_node_name, nodos):\n",
    "    start_node = nodos[start_node_name]\n",
    "    points_of_interest = [node for node in nodos.values() if node.punto_de_interes and node != start_node]\n",
    "    path = [start_node]\n",
    "    current_node = start_node \n",
    "\n",
    "    while points_of_interest:\n",
    "        closest_path = None\n",
    "        for point in points_of_interest:\n",
    "            temp_path = bfs_find_path(current_node, point)\n",
    "            if temp_path and (closest_path is None or len(temp_path) < len(closest_path)):\n",
    "                closest_path = temp_path\n",
    "\n",
    "        if closest_path:\n",
    "            # Avoid adding the current node twice if it's already at the end of the path\n",
    "            if path[-1] == closest_path[0]:\n",
    "                path.extend(closest_path[1:])\n",
    "            else:\n",
    "                path.extend(closest_path)\n",
    "            current_node = closest_path[-1]\n",
    "            points_of_interest.remove(current_node)\n",
    "        else:\n",
    "            break  # If no path is found to any of the remaining points, break out of the loop\n",
    "\n",
    "    if path[-1] != start_node:\n",
    "        return_path_to_start = bfs_find_path(current_node, start_node)\n",
    "        if return_path_to_start:\n",
    "            # Asegúrate de no duplicar el nodo actual en el path\n",
    "            if return_path_to_start[0] == path[-1]:\n",
    "                path.extend(return_path_to_start[1:])\n",
    "            else:\n",
    "                path.extend(return_path_to_start)\n",
    "\n",
    "    return [node.nombre for node in path]\n"
   ]
  },
  {
   "cell_type": "code",
   "execution_count": 11,
   "metadata": {},
   "outputs": [
    {
     "name": "stdout",
     "output_type": "stream",
     "text": [
      "Camino del toure:  ['Nodo3', 'Nodo2', 'Nodo1', 'Nodo4', 'Nodo5', 'Nodo8', 'Nodo7', 'Nodo8', 'Nodo9', 'Nodo6', 'Nodo5', 'Nodo2', 'Nodo3']\n"
     ]
    }
   ],
   "source": [
    "start_node = 'Nodo3'\n",
    "camino_tour = path_tour_trip_best_first_search(start_node, nodes_dict)\n",
    "print(\"Camino del toure: \", camino_tour)"
   ]
  },
  {
   "cell_type": "code",
   "execution_count": 12,
   "metadata": {},
   "outputs": [
    {
     "name": "stdout",
     "output_type": "stream",
     "text": [
      "[['Nodo1', 'Nodo2', 'Nodo3'], ['Nodo4', 'Nodo5', 'Nodo6'], ['Nodo7', 'Nodo8', 'Nodo9']]\n"
     ]
    }
   ],
   "source": [
    "import math\n",
    "nombre_nodos = list(nodes_dict.keys())\n",
    "\n",
    "n = math.ceil(math.sqrt(len(nombre_nodos)))\n",
    "\n",
    "matriz = []\n",
    "\n",
    "for i in range(n):\n",
    "    fila = []\n",
    "    for j in range(n):\n",
    "        # Calcular el índice del nodo en la lista plana\n",
    "        index = i * n + j\n",
    "        if index < len(nombre_nodos):\n",
    "            fila.append(nombre_nodos[index])\n",
    "        else:\n",
    "            fila.append(None)  \n",
    "    matriz.append(fila)\n",
    "\n",
    "print(matriz)"
   ]
  }
 ],
 "metadata": {
  "kernelspec": {
   "display_name": ".venv",
   "language": "python",
   "name": "python3"
  },
  "language_info": {
   "codemirror_mode": {
    "name": "ipython",
    "version": 3
   },
   "file_extension": ".py",
   "mimetype": "text/x-python",
   "name": "python",
   "nbconvert_exporter": "python",
   "pygments_lexer": "ipython3",
   "version": "3.10.12"
  }
 },
 "nbformat": 4,
 "nbformat_minor": 2
}
