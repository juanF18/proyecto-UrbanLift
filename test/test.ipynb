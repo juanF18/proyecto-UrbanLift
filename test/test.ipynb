{
 "cells": [
  {
   "cell_type": "code",
   "execution_count": 3,
   "metadata": {},
   "outputs": [
    {
     "name": "stdout",
     "output_type": "stream",
     "text": [
      "['Nodo1', 'Nodo3']\n"
     ]
    }
   ],
   "source": [
    "import heapq\n",
    "\n",
    "class Nodo:\n",
    "    def __init__(self, nombre, carrera, calle, semaforo, punto_de_interes, conexiones):\n",
    "        self.nombre = nombre\n",
    "        self.carrera = carrera\n",
    "        self.calle = calle\n",
    "        self.semaforo = semaforo\n",
    "        self.punto_de_interes = punto_de_interes\n",
    "        self.conexiones = conexiones\n",
    "\n",
    "        self.g = 0\n",
    "        self.h = 0\n",
    "        self.f = 0\n",
    "        self.parent = None\n",
    "\n",
    "    def __eq__(self, other):\n",
    "        return self.nombre == other.nombre\n",
    "\n",
    "    def __hash__(self):\n",
    "        return hash(self.nombre)\n",
    "\n",
    "\n",
    "def astar(start, end):\n",
    "    open_list = []\n",
    "    closed_list = set()\n",
    "    \n",
    "    heapq.heappush(open_list, (0, start))\n",
    "\n",
    "    while open_list:\n",
    "        current_node = heapq.heappop(open_list)[1]\n",
    "        closed_list.add(current_node)\n",
    "\n",
    "        if current_node == end:\n",
    "            path = []\n",
    "            while current_node:\n",
    "                path.append(current_node.nombre)\n",
    "                current_node = current_node.parent\n",
    "            return path[::-1]\n",
    "\n",
    "        for neighbor in current_node.conexiones:\n",
    "            if neighbor in closed_list:\n",
    "                continue\n",
    "\n",
    "            neighbor.g = current_node.g + 1\n",
    "            neighbor.h = abs(neighbor.calle - end.calle) + abs(neighbor.carrera - end.carrera)\n",
    "            neighbor.f = neighbor.g + neighbor.h\n",
    "\n",
    "            for _, open_node in open_list:\n",
    "                if neighbor == open_node and neighbor.g > open_node.g:\n",
    "                    continue\n",
    "\n",
    "            neighbor.parent = current_node\n",
    "            heapq.heappush(open_list, (neighbor.f, neighbor))\n",
    "\n",
    "    return None\n",
    "\n",
    "# Ejemplo de uso\n",
    "nodo1 = Nodo(\"Nodo1\", 10, 20, True, False, [])\n",
    "nodo2 = Nodo(\"Nodo2\", 15, 25, False, True, [])\n",
    "nodo3 = Nodo(\"Nodo3\", 30, 40, True, True, [])\n",
    "\n",
    "nodo1.conexiones = [nodo2, nodo3]\n",
    "nodo2.conexiones = [nodo1, nodo3]\n",
    "nodo3.conexiones = [nodo1, nodo2]\n",
    "\n",
    "start = nodo1\n",
    "end = nodo3\n",
    "\n",
    "path = astar(start, end)\n",
    "print(path)\n"
   ]
  }
 ],
 "metadata": {
  "kernelspec": {
   "display_name": ".venv",
   "language": "python",
   "name": "python3"
  },
  "language_info": {
   "codemirror_mode": {
    "name": "ipython",
    "version": 3
   },
   "file_extension": ".py",
   "mimetype": "text/x-python",
   "name": "python",
   "nbconvert_exporter": "python",
   "pygments_lexer": "ipython3",
   "version": "3.10.12"
  }
 },
 "nbformat": 4,
 "nbformat_minor": 2
}
