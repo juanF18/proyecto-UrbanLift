{
 "cells": [
  {
   "cell_type": "code",
   "execution_count": 8,
   "metadata": {},
   "outputs": [
    {
     "name": "stdout",
     "output_type": "stream",
     "text": [
      "['Nodo1', 'Nodo2', 'Nodo5']\n"
     ]
    }
   ],
   "source": [
    "import heapq\n",
    "\n",
    "class Nodo:\n",
    "    def __init__(self, nombre, carrera, calle, semaforo, punto_de_interes, conexiones):\n",
    "        self.nombre = nombre\n",
    "        self.carrera = carrera\n",
    "        self.calle = calle\n",
    "        self.semaforo = semaforo\n",
    "        self.punto_de_interes = punto_de_interes\n",
    "        self.conexiones = conexiones\n",
    "\n",
    "        self.g = 0\n",
    "        self.h = 0\n",
    "        self.f = 0\n",
    "        self.parent = None\n",
    "\n",
    "    def __eq__(self, other):\n",
    "        return self.nombre == other.nombre\n",
    "    \n",
    "    def __lt__(self, other):\n",
    "        return self.f < other.f\n",
    "\n",
    "    def __hash__(self):\n",
    "        return hash(self.nombre)\n",
    "\n",
    "\n",
    "def astar(start, end):\n",
    "    open_list = []\n",
    "    closed_list = set()\n",
    "    \n",
    "    heapq.heappush(open_list, (0, start))\n",
    "\n",
    "    while open_list:\n",
    "        current_node = heapq.heappop(open_list)[1]\n",
    "        closed_list.add(current_node)\n",
    "\n",
    "        if current_node == end:\n",
    "            path = []\n",
    "            while current_node:\n",
    "                path.append(current_node.nombre)\n",
    "                current_node = current_node.parent\n",
    "            return path[::-1]\n",
    "\n",
    "        for neighbor in current_node.conexiones:\n",
    "            if neighbor in closed_list:\n",
    "                continue\n",
    "\n",
    "            neighbor.g = current_node.g + 1\n",
    "            neighbor.h = abs(neighbor.calle - end.calle) + abs(neighbor.carrera - end.carrera)\n",
    "            neighbor.f = neighbor.g + neighbor.h\n",
    "\n",
    "            for _, open_node in open_list:\n",
    "                if neighbor == open_node and neighbor.g > open_node.g:\n",
    "                    continue\n",
    "\n",
    "            neighbor.parent = current_node\n",
    "            heapq.heappush(open_list, (neighbor.f, neighbor))\n",
    "\n",
    "    return None\n",
    "\n",
    "# Ejemplo de uso\n",
    "nodo1 = Nodo(\"Nodo1\", 10, 20, True, False, [])\n",
    "nodo2 = Nodo(\"Nodo2\", 15, 25, False, True, [])\n",
    "nodo3 = Nodo(\"Nodo3\", 30, 40, True, True, [])\n",
    "nodo4 = Nodo(\"Nodo4\", 50, 10, True, True, [])\n",
    "nodo5 = Nodo(\"Nodo5\", 10, 10, True, True, [])\n",
    "\n",
    "\n",
    "nodo1.conexiones = [nodo2, nodo3]\n",
    "nodo2.conexiones = [nodo1, nodo3, nodo5]\n",
    "nodo3.conexiones = [nodo1, nodo2, nodo4]\n",
    "nodo4.conexiones = [nodo3]\n",
    "nodo5.conexiones = [nodo2]\n",
    "\n",
    "start = nodo1\n",
    "end = nodo5\n",
    "\n",
    "path = astar(start, end)\n",
    "print(path)\n"
   ]
  },
  {
   "cell_type": "code",
   "execution_count": 2,
   "metadata": {},
   "outputs": [
    {
     "name": "stdout",
     "output_type": "stream",
     "text": [
      "[['Nodo1*', 'Nodo2', 'Nodo3'], ['Nodo4', 'Nodo5', 'Nodo6'], ['Nodo7', 'Nodo8', 'Nodo9']]\n",
      "[['Nodo1*', 'Nodo2*', 'Nodo3'], ['Nodo4', 'Nodo5', 'Nodo6'], ['Nodo7', 'Nodo8', 'Nodo9']]\n",
      "[['Nodo1*', 'Nodo2*', 'Nodo3'], ['Nodo4', 'Nodo5*', 'Nodo6'], ['Nodo7', 'Nodo8', 'Nodo9']]\n"
     ]
    }
   ],
   "source": [
    "path = [\"Nodo1\", \"Nodo2\", \"Nodo5\"]\n",
    "m = [\n",
    "    [\"Nodo1\", \"Nodo2\", \"Nodo3\"],\n",
    "    [\"Nodo4\", \"Nodo5\", \"Nodo6\"],\n",
    "    [\"Nodo7\", \"Nodo8\", \"Nodo9\"],\n",
    "]\n",
    "\n",
    "for n in path:\n",
    "    for x in range(len(m)):\n",
    "        for y in range(len(m[x])):\n",
    "            if m[x][y] == n:\n",
    "                m[x][y] = m[x][y]+'*'\n",
    "    print(m)"
   ]
  },
  {
   "cell_type": "code",
   "execution_count": 6,
   "metadata": {},
   "outputs": [
    {
     "name": "stdout",
     "output_type": "stream",
     "text": [
      "[['Nodo1*', 'Nodo2', 'Nodo3'], ['Nodo4', 'Nodo5', 'Nodo6'], ['Nodo7', 'Nodo8', 'Nodo9']]\n",
      "[['Nodo1*', 'Nodo2*', 'Nodo3'], ['Nodo4', 'Nodo5', 'Nodo6'], ['Nodo7', 'Nodo8', 'Nodo9']]\n",
      "[['Nodo1*', 'Nodo2*', 'Nodo3'], ['Nodo4', 'Nodo5*', 'Nodo6'], ['Nodo7', 'Nodo8', 'Nodo9']]\n"
     ]
    }
   ],
   "source": [
    "from copy import deepcopy\n",
    "\n",
    "path = [\"Nodo1\", \"Nodo2\", \"Nodo5\"]\n",
    "m = [\n",
    "    [\"Nodo1\", \"Nodo2\", \"Nodo3\"],\n",
    "    [\"Nodo4\", \"Nodo5\", \"Nodo6\"],\n",
    "    [\"Nodo7\", \"Nodo8\", \"Nodo9\"],\n",
    "]\n",
    "\n",
    "# Convertir path en un set para mejorar la eficiencia de la búsqueda\n",
    "path_set = set(path)\n",
    "\n",
    "for x in range(len(m)):\n",
    "    for y in range(len(m[x])):\n",
    "        if m[x][y] in path_set:\n",
    "            m[x][y] += '*'\n",
    "            print(m)\n"
   ]
  }
 ],
 "metadata": {
  "kernelspec": {
   "display_name": ".venv",
   "language": "python",
   "name": "python3"
  },
  "language_info": {
   "codemirror_mode": {
    "name": "ipython",
    "version": 3
   },
   "file_extension": ".py",
   "mimetype": "text/x-python",
   "name": "python",
   "nbconvert_exporter": "python",
   "pygments_lexer": "ipython3",
   "version": "3.10.12"
  }
 },
 "nbformat": 4,
 "nbformat_minor": 2
}
